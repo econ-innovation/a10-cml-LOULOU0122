{
 "cells": [
  {
   "cell_type": "code",
   "execution_count": 1,
   "metadata": {},
   "outputs": [],
   "source": [
    "import os\n",
    "import shutil"
   ]
  },
  {
   "cell_type": "code",
   "execution_count": 2,
   "metadata": {},
   "outputs": [
    {
     "name": "stdout",
     "output_type": "stream",
     "text": [
      "Google patents organized successfully.\n"
     ]
    }
   ],
   "source": [
    "def google_patents(input_file, base_dir):\n",
    "    # 创建路径\n",
    "    os.makedirs(base_dir, exist_ok=True)\n",
    "\n",
    "    # 初始化计数器\n",
    "    file_count = 0\n",
    "    folder_count = 0\n",
    "    level_count = 0\n",
    "\n",
    "    # 打开专利号数据文件\n",
    "    with open(input_file, 'r') as f:\n",
    "        for line in f:\n",
    "            patent_number = line.strip()\n",
    "\n",
    "            # 构建当前专利的存储路径\n",
    "            current_level_dir = os.path.join(base_dir, f'level_{level_count}')\n",
    "            os.makedirs(current_level_dir, exist_ok=True)\n",
    "\n",
    "            current_folder_dir = os.path.join(current_level_dir, f'folder_{folder_count}')\n",
    "            os.makedirs(current_folder_dir, exist_ok=True)\n",
    "\n",
    "            # 将专利文本文件写入当前路径\n",
    "            with open(os.path.join(current_folder_dir, f'patent_{file_count}.txt'), 'w') as patent_file:\n",
    "                patent_file.write(f'Patent number: {patent_number}\\n')\n",
    "\n",
    "            # 更新计数器\n",
    "            file_count += 1\n",
    "            if file_count % 100 == 0:\n",
    "                folder_count += 1\n",
    "                file_count = 0\n",
    "                if folder_count % 100 == 0:\n",
    "                    level_count += 1\n",
    "                    folder_count = 0\n",
    "\n",
    "    print('Google patents organized successfully.')\n",
    "\n",
    "input_file = 'pubnr_cn.txt'\n",
    "base_directory = './organized_patents'\n",
    "\n",
    "google_patents(input_file, base_directory)\n"
   ]
  }
 ],
 "metadata": {
  "kernelspec": {
   "display_name": "base",
   "language": "python",
   "name": "python3"
  },
  "language_info": {
   "codemirror_mode": {
    "name": "ipython",
    "version": 3
   },
   "file_extension": ".py",
   "mimetype": "text/x-python",
   "name": "python",
   "nbconvert_exporter": "python",
   "pygments_lexer": "ipython3",
   "version": "3.11.5"
  }
 },
 "nbformat": 4,
 "nbformat_minor": 2
}
